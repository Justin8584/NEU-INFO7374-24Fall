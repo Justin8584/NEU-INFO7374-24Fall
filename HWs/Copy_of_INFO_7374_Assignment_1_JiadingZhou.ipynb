{
  "nbformat": 4,
  "nbformat_minor": 0,
  "metadata": {
    "colab": {
      "provenance": [],
      "gpuType": "T4",
      "toc_visible": true
    },
    "kernelspec": {
      "name": "python3",
      "display_name": "Python 3"
    },
    "language_info": {
      "name": "python"
    }
  },
  "cells": [
    {
      "cell_type": "markdown",
      "source": [
        "# Assignment 1 (50 points)"
      ],
      "metadata": {
        "id": "BevRMflsqwin"
      }
    },
    {
      "cell_type": "code",
      "source": [
        "%matplotlib inline\n",
        "import numpy as np\n",
        "import matplotlib.pyplot as plt\n",
        "import torch\n",
        "from torch import nn as nn\n",
        "from torch.nn import functional as F"
      ],
      "metadata": {
        "id": "VFcJgUtfyr-C"
      },
      "execution_count": null,
      "outputs": []
    },
    {
      "cell_type": "markdown",
      "source": [
        "## Problem 1 (20 points)\n",
        "\n",
        "Optimize the following loss:\n",
        "$L = (leaky\\_relu(w1 * x1 + w2 * x2) - 5) ^ 2$\n",
        "\n",
        "This represents a single neuron with 2 inputs (x1 and x2) with tunable parameters (w1 and w2). The neuron has leaky relu activation function defined below. The output should be equal to 5. We are measuring the loss using the L2 loss.\n",
        "\n",
        "\n",
        "$\\text{LeakyReLU}(x) = \\begin{cases}\n",
        "x, & \\text{if } x > 0 \\\\\n",
        "0.01 * x, & \\text{otherwise}\n",
        "\\end{cases}$\n",
        "\n",
        "\n",
        "Hints:\n",
        "1. Since leaky relu is a piecewise function (is calculated different depending on the value of x), the derivative calculation will also be calculated differently depending on the value of x\n",
        "2. Consider that:\n",
        "\n",
        "$sum = w1 * x1 + w2 * x2$\n",
        "\n",
        "$output = leaky\\_relu(sum)$\n",
        "\n",
        "$L = (output - 5) ^ 2$\n",
        "\n",
        "How can we use the chain rule to $\\frac{\\delta L}{\\delta w1}$ and $\\frac{\\delta L}{\\delta w2}$?\n"
      ],
      "metadata": {
        "id": "poZiZrQyyNOT"
      }
    },
    {
      "cell_type": "code",
      "source": [
        "def leaky_relu(x):\n",
        "    if x > 0:\n",
        "        return x\n",
        "    else:\n",
        "        return 0.01 * x\n",
        "\n",
        "xs = np.arange(-10, 10)\n",
        "ys = [leaky_relu(x) for x in xs]\n",
        "plt.title('Leaky ReLU')\n",
        "plt.plot(xs, ys)\n",
        "plt.grid()"
      ],
      "metadata": {
        "id": "t_PBMtOryN0D",
        "collapsed": true,
        "colab": {
          "base_uri": "https://localhost:8080/",
          "height": 452
        },
        "outputId": "2b2b092d-a88c-492b-b7a4-03c680baed81"
      },
      "execution_count": null,
      "outputs": [
        {
          "output_type": "display_data",
          "data": {
            "text/plain": [
              "<Figure size 640x480 with 1 Axes>"
            ],
            "image/png": "[encoded data removed]"
          },
          "metadata": {}
        }
      ]
    },
    {
      "cell_type": "markdown",
      "source": [
        "### 1a. Backpropagation by hand (10 points)\n",
        "Optimize the loss using only python like we did in class. Derive the gradients by hand."
      ],
      "metadata": {
        "id": "d2c7vCPc13eC"
      }
    },
    {
      "cell_type": "code",
      "source": [
        "# initialization\n",
        "\n",
        "x1 = 5 # data\n",
        "x2 = 6\n",
        "\n",
        "w1 = 7 # model params\n",
        "w2 = 8\n",
        "\n",
        "lr = 0.01\n",
        "actual = 5\n",
        "\n",
        "def leaky_relu_derivative(x):\n",
        "    if x > 0:\n",
        "        return 1\n",
        "    else:\n",
        "        return 0.01\n",
        "\n",
        "for i in range(1000):\n",
        "\n",
        "    sum = x1 * w1 + x2 * w2  # weighted Sum\n",
        "    output = leaky_relu(sum)\n",
        "    loss = (output - actual) ** 2\n",
        "\n",
        "    # Calculate Gradients\n",
        "\n",
        "    ## dloss/dw1 and dloss/dw2\n",
        "    # dloss/dw1 = dloss/dleaky_relu(sum) * dleaky_relu(sum)/dsum * dsum/dw1\n",
        "    # dloss/dw2 = dloss/dleaky_relu(sum) * dleaky_relu(sum)/dsum * dsum/dw2\n",
        "\n",
        "    dloss_dleaky_reluSum = 2 * (output - actual)\n",
        "    dleaky_reluSum_dsum = leaky_relu_derivative(sum)\n",
        "    dsum_dw1 = x1\n",
        "    dsum_dw2 = x2\n",
        "\n",
        "    dloss_dw1 = dloss_dleaky_reluSum * dleaky_reluSum_dsum * dsum_dw1\n",
        "    dloss_dw2 = dloss_dleaky_reluSum * dleaky_reluSum_dsum * dsum_dw2\n",
        "\n",
        "    w1 = w1 - lr * dloss_dw1\n",
        "    w2 = w2 - lr * dloss_dw2\n",
        "\n",
        "    if i % 100 == 0:\n",
        "      print(f\"Iteration {i}: Loss = {loss}\")\n",
        "\n",
        "print(f\"Final Optimized weights: w1 = {w1}, w2 = {w2}\")\n",
        "print(leaky_relu(x1 * w1 + x2 * w2))"
      ],
      "metadata": {
        "id": "z1BmVmYc12w_",
        "collapsed": true,
        "colab": {
          "base_uri": "https://localhost:8080/"
        },
        "outputId": "3870b8d4-347d-48b4-b812-9e206027c896"
      },
      "execution_count": null,
      "outputs": [
        {
          "output_type": "stream",
          "name": "stdout",
          "text": [
            "Iteration 0: Loss = 6084\n",
            "Iteration 100: Loss = 25.604709690019114\n",
            "Iteration 200: Loss = 0.05848802764143765\n",
            "Iteration 300: Loss = 0.0\n",
            "Iteration 400: Loss = 0.0\n",
            "Iteration 500: Loss = 0.0\n",
            "Iteration 600: Loss = 0.0\n",
            "Iteration 700: Loss = 0.0\n",
            "Iteration 800: Loss = 0.0\n",
            "Iteration 900: Loss = 0.0\n",
            "Final Optimized weights: w1 = 0.6065573770491801, w2 = 0.32786885245901654\n",
            "5.0\n"
          ]
        }
      ]
    },
    {
      "cell_type": "markdown",
      "source": [
        "### 1b. Reimplement 1a using torch. (5 points)\n",
        "\n",
        "Do not use `torch.optim`"
      ],
      "metadata": {
        "id": "C8lLoxJY4AIg"
      }
    },
    {
      "cell_type": "code",
      "source": [
        "x1 = torch.tensor(3., requires_grad=False) # data\n",
        "x2 = torch.tensor(4., requires_grad=False)\n",
        "\n",
        "w1 = torch.tensor(5., requires_grad=True) # model params\n",
        "w2 = torch.tensor(6., requires_grad=True)\n",
        "\n",
        "lr = 0.01\n",
        "actual = 5\n",
        "\n",
        "for i in range(100):\n",
        "\n",
        "    sum = x1 * w1 + x2 * w2  # weighted Sum\n",
        "    loss = (F.leaky_relu(sum) - actual) ** 2\n",
        "\n",
        "    # Calculate Gradients\n",
        "    loss.backward()\n",
        "\n",
        "    # update weights\n",
        "    with torch.no_grad():\n",
        "        w1 -= lr * w1.grad\n",
        "        w2 -= lr * w2.grad\n",
        "\n",
        "    # Zero gradients after updating\n",
        "    w1.grad.zero_()\n",
        "    w2.grad.zero_()\n",
        "\n",
        "    if i % 10 == 0:\n",
        "      print(f\"Iteration {i}: Loss = {loss.item()}\")\n",
        "\n",
        "pred = (F.leaky_relu(x1*w1 + x2*w2)).detach().item()\n",
        "\n",
        "print(f\"prediction = \", pred)"
      ],
      "metadata": {
        "id": "GL1z_OFR4kyP",
        "colab": {
          "base_uri": "https://localhost:8080/"
        },
        "outputId": "08b4cfd8-ce0c-4de3-b6cc-bb4fd25a3a2a"
      },
      "execution_count": null,
      "outputs": [
        {
          "output_type": "stream",
          "name": "stdout",
          "text": [
            "Iteration 0: Loss = 1156.0\n",
            "Iteration 10: Loss = 0.001102447509765625\n",
            "Iteration 20: Loss = 1.0825260687852278e-09\n",
            "Iteration 30: Loss = 0.0\n",
            "Iteration 40: Loss = 0.0\n",
            "Iteration 50: Loss = 0.0\n",
            "Iteration 60: Loss = 0.0\n",
            "Iteration 70: Loss = 0.0\n",
            "Iteration 80: Loss = 0.0\n",
            "Iteration 90: Loss = 0.0\n",
            "prediction =  5.0\n"
          ]
        }
      ]
    },
    {
      "cell_type": "markdown",
      "source": [
        "### 1c. Implement a 2 layer neural network. (5 points)\n",
        "\n",
        "The neural network should be able to take inputs of size [4, 32] (batch size of 4 with 32 features per sample). The first layer should have have an output dimension of 8 and use the leaky relu activation. The second layer should not use an activation function.\n",
        "\n",
        "Train the model so that it outputs 5. Use an L2 loss as we did in 1a and 1b.\n",
        "\n",
        "[Pytorch docs on how to use leaky relu](\"https://pytorch.org/docs/stable/generated/torch.nn.LeakyReLU.html\")"
      ],
      "metadata": {
        "id": "nX5raZxJ6FYu"
      }
    },
    {
      "cell_type": "code",
      "source": [
        "class MLP(nn.Module):\n",
        "    def __init__(self):\n",
        "        # implement\n",
        "        super(MLP, self).__init__()\n",
        "        self.fc1 = nn.Linear(32, 8)\n",
        "        self.fc2 = nn.Linear(8, 1)\n",
        "    def forward(self, x):\n",
        "        # implement\n",
        "        x = F.leaky_relu(self.fc1(x))\n",
        "        x = self.fc2(x)\n",
        "        return x\n",
        "\n",
        "x = torch.randn((4, 32)).float()\n",
        "target = torch.tensor([5.0])\n",
        "model1 = MLP()\n",
        "\n",
        "lr = 0.01\n",
        "\n",
        "for i in range(100):\n",
        "    # implement\n",
        "    prediction = model1(x).mean()\n",
        "\n",
        "    loss = (prediction - target)**2\n",
        "    loss.backward()\n",
        "\n",
        "    with torch.no_grad():\n",
        "        for param in model1.parameters():\n",
        "            param -= lr * param.grad\n",
        "\n",
        "    model1.zero_grad()\n",
        "\n",
        "    if i % 10 == 0:\n",
        "      print(f\"Iteration {i}: Loss = {loss.item()}\")\n",
        "\n",
        "prediction = model1(x).mean().item()\n",
        "print(f\"{prediction = }\")\n"
      ],
      "metadata": {
        "id": "9ktU5vCI3d98",
        "colab": {
          "base_uri": "https://localhost:8080/"
        },
        "outputId": "d953cdde-e289-464f-8b48-7441e684d879"
      },
      "execution_count": null,
      "outputs": [
        {
          "output_type": "stream",
          "name": "stdout",
          "text": [
            "Iteration 0: Loss = 28.497886657714844\n",
            "Iteration 10: Loss = 0.25000858306884766\n",
            "Iteration 20: Loss = 3.997856765636243e-07\n",
            "Iteration 30: Loss = 9.094947017729282e-13\n",
            "Iteration 40: Loss = 0.0\n",
            "Iteration 50: Loss = 0.0\n",
            "Iteration 60: Loss = 0.0\n",
            "Iteration 70: Loss = 0.0\n",
            "Iteration 80: Loss = 0.0\n",
            "Iteration 90: Loss = 0.0\n",
            "prediction = 5.0\n"
          ]
        }
      ]
    },
    {
      "cell_type": "markdown",
      "source": [
        "## Problem 2 (30 points)\n",
        "\n",
        "The objective is predict 0.6. This time, we will use an L1 loss, a sigmoid activation function, and 3 inputs instead. Specifically,\n",
        "\n",
        "\n",
        "$prediction = sigmoid(w1 * x1 + w2 * x2 + w3 * x3)$\n",
        "\n",
        "$loss = l1(prediction, 0.6)$\n",
        "\n",
        "where $sigmoid$ and $l1$ is defined as:\n",
        "\n",
        "$sigmoid(x) = \\frac{1}{1+e^{-x}}$\n",
        "\n",
        "and $l1(prediction, target) = absolute\\_value(prediction - target)$\n",
        "\n",
        "$\\text{absolute_value}(x) = \\begin{cases}\n",
        "x, & \\text{if } x > 0 \\\\\n",
        "-x, & \\text{otherwise}\n",
        "\\end{cases}$\n",
        "\n",
        "\n",
        "Note that the absolute value function is a piece wise function, similar to leaky_relu."
      ],
      "metadata": {
        "id": "4ceRhZFhfDqj"
      }
    },
    {
      "cell_type": "code",
      "source": [
        "def sigmoid(x):\n",
        "    return 1 / (1 + np.exp(-x))\n",
        "\n",
        "xs = np.arange(-10, 10, 0.01)\n",
        "\n",
        "ys = [sigmoid(x) for x in xs]\n",
        "plt.title('sigmoid')\n",
        "plt.plot(xs, ys)"
      ],
      "metadata": {
        "id": "GIfe0rrFifE0",
        "collapsed": true,
        "colab": {
          "base_uri": "https://localhost:8080/",
          "height": 470
        },
        "outputId": "e10d51da-9529-4235-d4dd-81cb1d3e7cba"
      },
      "execution_count": null,
      "outputs": [
        {
          "output_type": "execute_result",
          "data": {
            "text/plain": [
              "[<matplotlib.lines.Line2D at 0x79593995ab30>]"
            ]
          },
          "metadata": {},
          "execution_count": 7
        },
        {
          "output_type": "display_data",
          "data": {
            "text/plain": [
              "<Figure size 640x480 with 1 Axes>"
            ],
            "image/png": "[encoded data removed]"
          },
          "metadata": {}
        }
      ]
    },
    {
      "cell_type": "code",
      "source": [
        "def absolute_value(x):\n",
        "    if x < 0:\n",
        "        return -x\n",
        "    else:\n",
        "        return x\n",
        "\n",
        "xs = np.arange(-10, 10, 0.01)\n",
        "\n",
        "ys = [absolute_value(x) for x in xs]\n",
        "plt.title('absolute value')\n",
        "plt.plot(xs, ys)"
      ],
      "metadata": {
        "id": "xs4nG4glisGu",
        "collapsed": true,
        "colab": {
          "base_uri": "https://localhost:8080/",
          "height": 470
        },
        "outputId": "60f542ef-51c3-4f3d-ad91-d95f5422863c"
      },
      "execution_count": null,
      "outputs": [
        {
          "output_type": "execute_result",
          "data": {
            "text/plain": [
              "[<matplotlib.lines.Line2D at 0x79593983db40>]"
            ]
          },
          "metadata": {},
          "execution_count": 8
        },
        {
          "output_type": "display_data",
          "data": {
            "text/plain": [
              "<Figure size 640x480 with 1 Axes>"
            ],
            "image/png": "[encoded data removed]"
          },
          "metadata": {}
        }
      ]
    },
    {
      "cell_type": "markdown",
      "source": [
        "### 2a. Backpropagation by hand (15 points)\n",
        "Optimize the loss using only python like we did in class. Derive the gradients by hand."
      ],
      "metadata": {
        "id": "QzwGjnGflYnS"
      }
    },
    {
      "cell_type": "code",
      "source": [
        "# initialization\n",
        "\n",
        "x1, x2, x3 = 0.5, 0.6, 0.7 # data\n",
        "w1, w2, w3 = 0.7, 0.8, 0.9 # model\n",
        "\n",
        "lr = 0.01\n",
        "target = 0.6\n",
        "\n",
        "def sigmoid_derivative(x):\n",
        "    return sigmoid(x) * (1 - sigmoid(x))\n",
        "\n",
        "## For using L1 Loss function:\n",
        "# pred = sigmoid(x1*w1 + x2*w2 + x3*w3)\n",
        "# L1Loss = |pred - 0.6|\n",
        "\n",
        "for i in range(1000):\n",
        "    # implement here\n",
        "\n",
        "    sum = x1*w1 + x2*w2 + x3*w3\n",
        "    pred = sigmoid(sum)\n",
        "\n",
        "    loss = absolute_value(pred - target)\n",
        "\n",
        "    ## dloss/dw1 , dloss/dw2 , dloss/dw3\n",
        "    # dloss/dw1 = dloss/dpred * dpred/dw1\n",
        "    # dloss/dw2 = dloss/dpred * dpred/dw2\n",
        "    # dloss/dw3 = dloss/dpred * dpred/dw3\n",
        "\n",
        "    dloss_dpred = 1 if pred > target else -1\n",
        "    dpred_dw1 = sigmoid_derivative(sum) * x1\n",
        "    dpred_dw2 = sigmoid_derivative(sum) * x2\n",
        "    dpred_dw3 = sigmoid_derivative(sum) * x3\n",
        "\n",
        "    # chain rule\n",
        "    dloss_dw1 = dloss_dpred * dpred_dw1\n",
        "    dloss_dw2 = dloss_dpred * dpred_dw2\n",
        "    dloss_dw3 = dloss_dpred * dpred_dw3\n",
        "\n",
        "    # update w\n",
        "    w1 = w1 - lr * dloss_dw1\n",
        "    w2 = w2 - lr * dloss_dw2\n",
        "    w3 = w3 - lr * dloss_dw3\n",
        "\n",
        "    if i % 100 == 0:\n",
        "        print(f\"iteration {i}: Prediction = {pred}, Loss = {loss}\")\n",
        "\n",
        "print(sigmoid(x1 * w1 + x2 * w2 + x3 * w3))"
      ],
      "metadata": {
        "id": "cZbqLDRElhD9",
        "colab": {
          "base_uri": "https://localhost:8080/"
        },
        "outputId": "180f08d7-7a55-4d39-9130-243fb55907ab"
      },
      "execution_count": null,
      "outputs": [
        {
          "output_type": "stream",
          "name": "stdout",
          "text": [
            "iteration 0: Prediction = 0.8115326747861805, Loss = 0.21153267478618054\n",
            "iteration 100: Prediction = 0.7829040347865712, Loss = 0.18290403478657125\n",
            "iteration 200: Prediction = 0.7475580355129442, Loss = 0.14755803551294422\n",
            "iteration 300: Prediction = 0.7042022897056351, Loss = 0.10420228970563516\n",
            "iteration 400: Prediction = 0.6520199305878219, Loss = 0.05201993058782195\n",
            "iteration 500: Prediction = 0.6003441694032661, Loss = 0.00034416940326609247\n",
            "iteration 600: Prediction = 0.6003608920642353, Loss = 0.0003608920642352853\n",
            "iteration 700: Prediction = 0.6003776168210107, Loss = 0.0003776168210106734\n",
            "iteration 800: Prediction = 0.600394343673523, Loss = 0.00039434367352297883\n",
            "iteration 900: Prediction = 0.6004110726217029, Loss = 0.0004110726217029237\n",
            "0.6004278036654809\n"
          ]
        }
      ]
    },
    {
      "cell_type": "markdown",
      "source": [
        "### 2b. Reimplement 2a using torch. (5 points)\n",
        "\n",
        "Do not use `torch.optim`"
      ],
      "metadata": {
        "id": "JbAsHIx6mSJG"
      }
    },
    {
      "cell_type": "code",
      "source": [
        "# implement here (follow the structure of 1b)\n",
        "\n",
        "x1 = torch.tensor(0.5, requires_grad=False) # data\n",
        "x2 = torch.tensor(0.6, requires_grad=False)\n",
        "x3 = torch.tensor(0.7, requires_grad=False)\n",
        "\n",
        "w1 = torch.tensor(0.7, requires_grad=True) # model params\n",
        "w2 = torch.tensor(0.8, requires_grad=True)\n",
        "w3 = torch.tensor(0.9, requires_grad=True)\n",
        "\n",
        "lr = 0.01\n",
        "target = torch.tensor(0.6)\n",
        "\n",
        "for i in range(1000):\n",
        "\n",
        "    sum = x1*w1 + x2*w2 + x3*w3\n",
        "    pred = torch.sigmoid(sum)\n",
        "\n",
        "    loss = torch.abs(pred - target)\n",
        "\n",
        "    # Calculate Gradients\n",
        "    loss.backward()\n",
        "\n",
        "    # update weights\n",
        "    with torch.no_grad():\n",
        "        w1 -= lr * w1.grad\n",
        "        w2 -= lr * w2.grad\n",
        "        w3 -= lr * w3.grad\n",
        "\n",
        "    # Zero gradients after updating\n",
        "    w1.grad.zero_()\n",
        "    w2.grad.zero_()\n",
        "    w3.grad.zero_()\n",
        "\n",
        "    if i % 100 == 0:\n",
        "      print(f\"Iteration {i}: Loss = {loss.item()}\")\n",
        "\n",
        "with torch.no_grad():\n",
        "    final_pred = sigmoid(w1 * x1 + w2 * x2 + w3 * x3)\n",
        "    print(\"Final prediction:\", final_pred.item())"
      ],
      "metadata": {
        "id": "k8fxhBf8mbc2",
        "colab": {
          "base_uri": "https://localhost:8080/"
        },
        "outputId": "81c50f4d-835c-4b98-f5ea-e125a9f2816e"
      },
      "execution_count": null,
      "outputs": [
        {
          "output_type": "stream",
          "name": "stdout",
          "text": [
            "Iteration 0: Loss = 0.21153265237808228\n",
            "Iteration 100: Loss = 0.1829039454460144\n",
            "Iteration 200: Loss = 0.14755785465240479\n",
            "Iteration 300: Loss = 0.10420197248458862\n",
            "Iteration 400: Loss = 0.052019596099853516\n",
            "Iteration 500: Loss = 0.0003437995910644531\n",
            "Iteration 600: Loss = 0.0003605484962463379\n",
            "Iteration 700: Loss = 0.00037723779678344727\n",
            "Iteration 800: Loss = 0.00039398670196533203\n",
            "Iteration 900: Loss = 0.0004107356071472168\n",
            "Final prediction: 0.6004274487495422\n"
          ]
        }
      ]
    },
    {
      "cell_type": "markdown",
      "source": [
        "### 2c. Implement a 2 layer neural network. (10 points)\n",
        "\n",
        "The neural network should be able to take inputs of size [4, 32] (batch size of 4 with 32 features per sample). The first layer should have have an output dimension of 8 and use the sigmoid activation. The second layer should also use a sigmoid activation function.\n",
        "\n",
        "Train the model so that it outputs 0.6. Use an L2 loss as we did in 1a and 1b.\n",
        "\n",
        "[PyTorch docs for how to use sigmoid](https://pytorch.org/docs/stable/generated/torch.nn.Sigmoid.html)"
      ],
      "metadata": {
        "id": "Vjlgw7Kbhzmd"
      }
    },
    {
      "cell_type": "code",
      "source": [
        "# implement here (follow the structure of 1c)\n",
        "\n",
        "class TwoLayerMLP(nn.Module):\n",
        "    def __init__(self):\n",
        "        super(TwoLayerMLP, self).__init__()\n",
        "\n",
        "        self.layer1 = nn.Linear(32,8)\n",
        "        self.layer2 = nn.Linear(8,1)\n",
        "        self.sigmoid = nn.Sigmoid()\n",
        "\n",
        "    def forward(self, x):\n",
        "        x = self.sigmoid(self.layer1(x))\n",
        "        x = self.sigmoid(self.layer2(x))\n",
        "        return x\n",
        "\n",
        "model2 = TwoLayerMLP()\n",
        "input = torch.randn((4, 32)).float()\n",
        "target = torch.tensor(0.6)\n",
        "\n",
        "L2_Loss = nn.MSELoss()\n",
        "lr = 0.01\n",
        "\n",
        "for i in range(1000):\n",
        "\n",
        "    pred = model2(input).mean()\n",
        "\n",
        "    loss = L2_Loss(pred, target)\n",
        "    loss.backward()\n",
        "\n",
        "    with torch.no_grad():\n",
        "        for p in model2.parameters():\n",
        "            p -= lr * p.grad\n",
        "\n",
        "    model2.zero_grad()\n",
        "\n",
        "    if i % 100 == 0:\n",
        "        print(f\"iteration {i}: Prediction = {pred.item()}, Loss = {loss.item()}\")\n",
        "\n",
        "final_pred = model2(input).mean()\n",
        "print(\"Final Prediction = \", final_pred.item())\n",
        "\n",
        "\n"
      ],
      "metadata": {
        "id": "2xma49c1iPG0",
        "colab": {
          "base_uri": "https://localhost:8080/"
        },
        "outputId": "23d88d60-1643-4558-c631-1e2ff5f8a317"
      },
      "execution_count": null,
      "outputs": [
        {
          "output_type": "stream",
          "name": "stdout",
          "text": [
            "iteration 0: Prediction = 0.6503596901893616, Loss = 0.0025360959116369486\n",
            "iteration 100: Prediction = 0.633595883846283, Loss = 0.0011286818189546466\n",
            "iteration 200: Prediction = 0.6221455335617065, Loss = 0.0004904235829599202\n",
            "iteration 300: Prediction = 0.614488959312439, Loss = 0.00020992924692109227\n",
            "iteration 400: Prediction = 0.6094352006912231, Loss = 8.90225637704134e-05\n",
            "iteration 500: Prediction = 0.6061260104179382, Loss = 3.752771226572804e-05\n",
            "iteration 600: Prediction = 0.6039699912071228, Loss = 1.5760640962980688e-05\n",
            "iteration 700: Prediction = 0.6025696992874146, Loss = 6.603231668123044e-06\n",
            "iteration 800: Prediction = 0.6016620397567749, Loss = 2.7622968445939478e-06\n",
            "iteration 900: Prediction = 0.6010744571685791, Loss = 1.1544069593583117e-06\n",
            "Final Prediction =  0.6006944179534912\n"
          ]
        }
      ]
    },
    {
      "cell_type": "code",
      "source": [],
      "metadata": {
        "id": "3HQD2d2EhnqP"
      },
      "execution_count": null,
      "outputs": []
    }
  ]
}