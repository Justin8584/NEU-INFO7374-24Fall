{
  "nbformat": 4,
  "nbformat_minor": 0,
  "metadata": {
    "colab": {
      "provenance": [],
      "toc_visible": true,
      "gpuType": "T4"
    },
    "kernelspec": {
      "name": "python3",
      "display_name": "Python 3"
    },
    "language_info": {
      "name": "python"
    },
    "accelerator": "GPU"
  },
  "cells": [
    {
      "cell_type": "markdown",
      "source": [
        "# Assignment 2: Bigram Language Model and Generative Pretrained Transformer (GPT)\n",
        "\n",
        "\n",
        "The objective of this assignment is to train a simplified transformer model. The primary differences between the implementation:\n",
        "* tokenizer (we use a character level encoder simplicity and compute constraints)\n",
        "* size (we are using 1 consumer grade gpu hosted on colab and a small dataset. in practice, the models are much larger and are trained on much more data)\n",
        "* efficiency\n",
        "\n",
        "\n",
        "Most modern LLMs have multiple training stages, so we won't get a model that is capable of replying to you yet. However, this is the first step towards a model like ChatGPT and Llama.\n",
        "\n",
        "\n"
      ],
      "metadata": {
        "id": "fYCVVv_1A1kZ"
      }
    },
    {
      "cell_type": "code",
      "execution_count": null,
      "metadata": {
        "id": "F097yaiu7dXQ"
      },
      "outputs": [],
      "source": [
        "%matplotlib inline\n",
        "import torch\n",
        "import numpy as np\n",
        "import matplotlib.pyplot as plt\n",
        "from dataclasses import dataclass\n",
        "from torch import nn"
      ]
    },
    {
      "cell_type": "markdown",
      "source": [
        "## Part 1: Bigram MLP for TinyShakespeare (35 points)\n",
        "\n",
        "1a) (1 point). Create a list `chars` that contains all unique characters in `text`\n",
        "\n",
        "1b) (2 points). Implement `encode(s: str) -> list[int]`\n",
        "\n",
        "1c) (2 points). Implement `decode(ids: list[int]) -> str`\n",
        "\n",
        "1d) (5 points). Create two tensors, `inputs_one_hot` and `outputs_one_hot`. Use one hot encoding. Make sure to get every consecutive pair of characters. For example, for the word 'hello', we should create the following input-output pairs\n",
        "```\n",
        "he\n",
        "el\n",
        "ll\n",
        "lo\n",
        "```\n",
        "\n",
        "1e) (10 points). Implement BigramOneHotMLP, a 2 layer MLP that predicts the next token. Specifically, implement the constructor, forward, and generate. The output dimension of the first layer should be 8. Use `torch.optim`. The activation function for the first layer should be `nn.LeakyReLU()`\n",
        "\n",
        "Note: Use the `torch.nn.function.cross_entropy` loss. Read the [docs](https://pytorch.org/docs/stable/generated/torch.nn.functional.cross_entropy.html) about how this loss function works. The logits are the output of a network WITHOUT an activation function applied to the last layer. There are activation functions are applied to every layer except the last.\n",
        "\n",
        "1f) (5 points). Train the BigramOneHotMLP for 1000 steps.\n",
        "\n",
        "1g) (5 points). Create two tensors, `input_ids` and `outputs_one_hot`. These `input_ids` will be used for the embedding layer.\n",
        "\n",
        "1h) (5 points). Implement and train BigramEmbeddingMLP, a 2 layer mlp that predicts the next token. Specifically, implement the constructor, forward, and generate functions. The output dimension of the first layer should be 8. Use `torch.optim`.\n",
        "\n",
        "\n",
        "\n",
        "Note: the output will look like gibberish\n"
      ],
      "metadata": {
        "id": "8qra06Ema_VL"
      }
    },
    {
      "cell_type": "code",
      "source": [
        "!wget https://raw.githubusercontent.com/karpathy/char-rnn/master/data/tinyshakespeare/input.txt"
      ],
      "metadata": {
        "colab": {
          "base_uri": "https://localhost:8080/"
        },
        "id": "5iradmn7bZtM",
        "outputId": "6917836d-e53f-48ef-cb5c-72fea498470f"
      },
      "execution_count": null,
      "outputs": [
        {
          "output_type": "stream",
          "name": "stdout",
          "text": [
            "--2024-10-14 01:03:04--  https://raw.githubusercontent.com/karpathy/char-rnn/master/data/tinyshakespeare/input.txt\n",
            "Resolving raw.githubusercontent.com (raw.githubusercontent.com)... 185.199.108.133, 185.199.109.133, 185.199.110.133, ...\n",
            "Connecting to raw.githubusercontent.com (raw.githubusercontent.com)|185.199.108.133|:443... connected.\n",
            "HTTP request sent, awaiting response... 200 OK\n",
            "Length: 1115394 (1.1M) [text/plain]\n",
            "Saving to: ‘input.txt’\n",
            "\n",
            "\rinput.txt             0%[                    ]       0  --.-KB/s               \rinput.txt           100%[===================>]   1.06M  --.-KB/s    in 0.04s   \n",
            "\n",
            "2024-10-14 01:03:04 (25.9 MB/s) - ‘input.txt’ saved [1115394/1115394]\n",
            "\n"
          ]
        }
      ]
    },
    {
      "cell_type": "code",
      "source": [
        "# For the bigram model, let's use the first 1000 characters for the data\n",
        "\n",
        "with open('input.txt', 'r') as f:\n",
        "    text = f.read()\n",
        "text = text[:1000]"
      ],
      "metadata": {
        "id": "pLoVi294G-T-"
      },
      "execution_count": null,
      "outputs": []
    },
    {
      "cell_type": "code",
      "source": [
        "from torch.nn import functional as F\n",
        "import torch.optim as optim\n",
        "import torch.nn as nn"
      ],
      "metadata": {
        "id": "ihYC9kBHpZp1"
      },
      "execution_count": null,
      "outputs": []
    },
    {
      "cell_type": "code",
      "source": [
        "#1a\n",
        "chars = sorted(set(text)) # implement\n",
        "\n",
        "#1b\n",
        "charsToIdx = {ch: i for i, ch in enumerate(chars)}\n",
        "def encode(s: str) -> list[int]:\n",
        "    # implement\n",
        "    return [charsToIdx[ch] for ch in s]\n",
        "\n",
        "#1c\n",
        "idxToChars = {i: ch for ch, i in charsToIdx.items()}\n",
        "def decode(ids: list[int]) -> str:\n",
        "    # implement\n",
        "    return ''.join([idxToChars[i] for i in ids])\n",
        "\n",
        "#1d\n",
        "def create_one_hot_inputs_and_outputs() -> list[torch.tensor, torch.tensor]:\n",
        "    # implement\n",
        "    inputs_one_hot = []\n",
        "    outputs_one_hot = []\n",
        "    for ch1, ch2 in zip(text, text[1:]):\n",
        "        inputs_one_hot.append(F.one_hot(torch.tensor(charsToIdx[ch1]), len(chars)))\n",
        "        outputs_one_hot.append(F.one_hot(torch.tensor(charsToIdx[ch2]), len(chars)))\n",
        "    return torch.stack(inputs_one_hot), torch.stack(outputs_one_hot)\n",
        "\n",
        "inputs_one_hot, outputs_one_hot = create_one_hot_inputs_and_outputs()\n",
        "\n",
        "#1e\n",
        "class BigramOneHotMLP(nn.Module):\n",
        "    def __init__(self):\n",
        "        # implement\n",
        "        super().__init__()\n",
        "        self.fc1 = nn.Linear(len(chars), 8)\n",
        "        self.activation = nn.LeakyReLU()\n",
        "        self.fc2 = nn.Linear(8, len(chars))\n",
        "\n",
        "    def forward(self, x):\n",
        "        # implement\n",
        "        x = self.fc1(x)\n",
        "        x = self.activation(x)\n",
        "        x = self.fc2(x)\n",
        "        return x\n",
        "\n",
        "    def generate(self, start='a', max_new_tokens=100) -> str:\n",
        "        # implement\n",
        "        self.eval()\n",
        "        with torch.no_grad():\n",
        "            current_char = start\n",
        "            word = current_char\n",
        "\n",
        "            for _ in range(max_new_tokens):\n",
        "                input_ids = F.one_hot(torch.tensor(charsToIdx[current_char]), len(chars)).unsqueeze(0).float()\n",
        "                output = self(input_ids)\n",
        "                next_char_id = torch.argmax(output).item()\n",
        "                next_char = [k for k, v in charsToIdx.items() if v == next_char_id][0]\n",
        "                current_char = next_char\n",
        "                word += current_char\n",
        "            return word\n",
        "\n",
        "bigram_one_hot_mlp = BigramOneHotMLP()\n",
        "print(f\"biggram One Hot MLP: {bigram_one_hot_mlp.generate()}\")\n",
        "\n",
        "#1f\n",
        "learning_rate = 0.01\n",
        "optimizer = optim.SGD(bigram_one_hot_mlp.parameters(), lr=learning_rate)\n",
        "\n",
        "# training loop\n",
        "for epoch in range(1000):\n",
        "    # implement\n",
        "    optimizer.zero_grad()\n",
        "    predictions = bigram_one_hot_mlp(inputs_one_hot.float())\n",
        "    loss = F.cross_entropy(predictions, outputs_one_hot.float())\n",
        "    loss.backward()\n",
        "    optimizer.step()\n",
        "\n",
        "    if epoch % 100 == 0:\n",
        "        print(f\"epoch {epoch}, Loss: {loss.item()}\")\n",
        "\n",
        "\n",
        "print(bigram_one_hot_mlp.generate())\n",
        "print(f\"Len of Bigram OneHot: {len(bigram_one_hot_mlp.generate())}\")"
      ],
      "metadata": {
        "id": "hoMGZgEOdRjt",
        "colab": {
          "base_uri": "https://localhost:8080/"
        },
        "outputId": "eff19d0f-9cef-49ea-fd1d-4e7eb039f381"
      },
      "execution_count": null,
      "outputs": [
        {
          "output_type": "stream",
          "name": "stdout",
          "text": [
            "biggram One Hot MLP: aNNNNNNNNNNNNNNNNNNNNNNNNNNNNNNNNNNNNNNNNNNNNNNNNNNNNNNNNNNNNNNNNNNNNNNNNNNNNNNNNNNNNNNNNNNNNNNNNNNNN\n",
            "epoch 0, Loss: 3.8788132667541504\n",
            "epoch 100, Loss: 3.836172342300415\n",
            "epoch 200, Loss: 3.7954177856445312\n",
            "epoch 300, Loss: 3.7565805912017822\n",
            "epoch 400, Loss: 3.7198894023895264\n",
            "epoch 500, Loss: 3.6851208209991455\n",
            "epoch 600, Loss: 3.6519131660461426\n",
            "epoch 700, Loss: 3.6203083992004395\n",
            "epoch 800, Loss: 3.5901682376861572\n",
            "epoch 900, Loss: 3.5614359378814697\n",
            "a                                                                                                    \n",
            "Len of Bigram OneHot: 101\n"
          ]
        }
      ]
    },
    {
      "cell_type": "code",
      "source": [
        "#1g\n",
        "def create_embedding_inputs_and_outputs() -> list[torch.tensor, torch.tensor]:\n",
        "    # implement\n",
        "    inputs_ids=[]\n",
        "    outputs_one_hot=[]\n",
        "    for c1, c2 in zip(text, text[1:]):\n",
        "        inputs_ids.append(torch.tensor(charsToIdx[c1]))\n",
        "        outputs_one_hot.append(F.one_hot(torch.tensor(charsToIdx[c2]), len(chars)))\n",
        "    return torch.stack(inputs_ids), torch.stack(outputs_one_hot)\n",
        "\n",
        "input_ids, outputs_one_hot = create_embedding_inputs_and_outputs()\n",
        "\n",
        "#1h\n",
        "class BigramEmbeddingMLP(nn.Module):\n",
        "    def __init__(self):\n",
        "        # implement\n",
        "        super().__init__()\n",
        "        self.token_embedding=nn.Embedding(len(chars),8)\n",
        "        self.fc1 = nn.Linear(8, 8)\n",
        "        self.activation = nn.LeakyReLU()\n",
        "        self.fc2 = nn.Linear(8, len(chars))\n",
        "\n",
        "    def forward(self, x):\n",
        "        # implement\n",
        "        x = self.token_embedding(x)\n",
        "        x = self.fc1(x)\n",
        "        x = self.activation(x)\n",
        "        x = self.fc2(x)\n",
        "        return x\n",
        "\n",
        "    def generate(self, start='a', max_new_tokens=100) -> str:\n",
        "        # implement\n",
        "        self.eval()\n",
        "        with torch.no_grad():\n",
        "            current_char = start\n",
        "            word = current_char\n",
        "            for _ in range(max_new_tokens):\n",
        "                input_ids = torch.tensor(charsToIdx[current_char])\n",
        "                output = self(input_ids)\n",
        "                next_char_id = torch.argmax(output).item()\n",
        "                next_char = [k for k, v in charsToIdx.items() if v == next_char_id][0]\n",
        "                current_char = next_char\n",
        "                word += current_char\n",
        "            return word\n",
        "\n",
        "bigram_embedding_mlp = BigramEmbeddingMLP()\n",
        "\n",
        "generated_word = bigram_embedding_mlp.generate()\n",
        "print(f'Generated word: {generated_word}')\n",
        "\n",
        "learning_rate = 0.01\n",
        "optimizer = optim.SGD(bigram_one_hot_mlp.parameters(), lr=learning_rate)\n",
        "\n",
        "# training loop\n",
        "for ecope in range(1000):\n",
        "    # implement\n",
        "    optimizer.zero_grad()\n",
        "    predictions = bigram_one_hot_mlp(inputs_one_hot.float())\n",
        "    loss = F.cross_entropy(predictions, outputs_one_hot.float())\n",
        "    loss.backward()\n",
        "    optimizer.step()\n",
        "\n",
        "    if ecope % 100 == 0:\n",
        "        print(f\"ecope {ecope}, Loss: {loss.item()}\")\n",
        "\n",
        "print(bigram_embedding_mlp.generate())"
      ],
      "metadata": {
        "id": "PasrfDz-dSqx",
        "colab": {
          "base_uri": "https://localhost:8080/"
        },
        "outputId": "a4fb8231-ed04-42a3-b2e2-c0d0770fb12a"
      },
      "execution_count": null,
      "outputs": [
        {
          "output_type": "stream",
          "name": "stdout",
          "text": [
            "Generated word: aIYYYYYYYYYYYYYYYYYYYYYYYYYYYYYYYYYYYYYYYYYYYYYYYYYYYYYYYYYYYYYYYYYYYYYYYYYYYYYYYYYYYYYYYYYYYYYYYYYYY\n",
            "ecope 0, Loss: 3.5340540409088135\n",
            "ecope 100, Loss: 3.5079476833343506\n",
            "ecope 200, Loss: 3.4831175804138184\n",
            "ecope 300, Loss: 3.4595487117767334\n",
            "ecope 400, Loss: 3.43730092048645\n",
            "ecope 500, Loss: 3.416261911392212\n",
            "ecope 600, Loss: 3.396421432495117\n",
            "ecope 700, Loss: 3.3777997493743896\n",
            "ecope 800, Loss: 3.360185146331787\n",
            "ecope 900, Loss: 3.3435983657836914\n",
            "aIYYYYYYYYYYYYYYYYYYYYYYYYYYYYYYYYYYYYYYYYYYYYYYYYYYYYYYYYYYYYYYYYYYYYYYYYYYYYYYYYYYYYYYYYYYYYYYYYYYY\n"
          ]
        }
      ]
    },
    {
      "cell_type": "markdown",
      "source": [
        "## Part 2: Generative Pretrained Transformer (65 points)\n",
        "\n",
        "For this part, it is best to use a gpu. In the settings at the top go to Runtime -> Change Runtime Type and select T4 GPU"
      ],
      "metadata": {
        "id": "qplpM8_Cbp0s"
      }
    },
    {
      "cell_type": "code",
      "source": [
        "# run nvidia-smi to check gpu usage\n",
        "!nvidia-smi"
      ],
      "metadata": {
        "id": "0Oh-3FeFxxnI",
        "colab": {
          "base_uri": "https://localhost:8080/"
        },
        "outputId": "97250a38-7080-4f5e-f7a1-6faf30a88754"
      },
      "execution_count": null,
      "outputs": [
        {
          "output_type": "stream",
          "name": "stdout",
          "text": [
            "Mon Oct 14 01:03:14 2024       \n",
            "+---------------------------------------------------------------------------------------+\n",
            "| NVIDIA-SMI 535.104.05             Driver Version: 535.104.05   CUDA Version: 12.2     |\n",
            "|-----------------------------------------+----------------------+----------------------+\n",
            "| GPU  Name                 Persistence-M | Bus-Id        Disp.A | Volatile Uncorr. ECC |\n",
            "| Fan  Temp   Perf          Pwr:Usage/Cap |         Memory-Usage | GPU-Util  Compute M. |\n",
            "|                                         |                      |               MIG M. |\n",
            "|=========================================+======================+======================|\n",
            "|   0  Tesla T4                       Off | 00000000:00:04.0 Off |                    0 |\n",
            "| N/A   48C    P0              28W /  70W |    153MiB / 15360MiB |      0%      Default |\n",
            "|                                         |                      |                  N/A |\n",
            "+-----------------------------------------+----------------------+----------------------+\n",
            "                                                                                         \n",
            "+---------------------------------------------------------------------------------------+\n",
            "| Processes:                                                                            |\n",
            "|  GPU   GI   CI        PID   Type   Process name                            GPU Memory |\n",
            "|        ID   ID                                                             Usage      |\n",
            "|=======================================================================================|\n",
            "+---------------------------------------------------------------------------------------+\n"
          ]
        }
      ]
    },
    {
      "cell_type": "code",
      "source": [
        "# For the gpt model, let's use the full text\n",
        "\n",
        "with open('input.txt', 'r') as f:\n",
        "    text = f.read()"
      ],
      "metadata": {
        "id": "rhJAwCAOADP7"
      },
      "execution_count": null,
      "outputs": []
    },
    {
      "cell_type": "markdown",
      "source": [
        "Implement a character level tokenization function.\n",
        "\n",
        "1. Create a list of unique characters in the string. (1 points)\n",
        "2. Implement a function `encode(s: str) -> list[int]` that takes a string and returns a list of ids (1 point)\n",
        "3. Implement a function `decode(ids: list[int]) -> str` that takes a list of ids (ints) and returns a string (1 point)\n"
      ],
      "metadata": {
        "id": "z_LZpvZ8AEEi"
      }
    },
    {
      "cell_type": "code",
      "source": [
        "#1\n",
        "chars = sorted(set(text))\n",
        "print(len(chars))\n",
        "charsToidx={ch:i for i,ch in enumerate(chars)}\n",
        "print(charsToidx)\n",
        "idxToChars={i:ch for ch,i in charsToidx.items()}\n",
        "\n",
        "def encode(s: str) -> list[int]:\n",
        "    return [charsToidx[ch] for ch in text]\n",
        "\n",
        "def decode(ids: list[int]) -> str:\n",
        "    return ''.join([idxToChars[i] for i in ids])"
      ],
      "metadata": {
        "id": "rnEOfMj4Dk4Y",
        "colab": {
          "base_uri": "https://localhost:8080/"
        },
        "outputId": "70001376-369c-4c71-d7cf-a66295a83d0b"
      },
      "execution_count": null,
      "outputs": [
        {
          "output_type": "stream",
          "name": "stdout",
          "text": [
            "65\n",
            "{'\\n': 0, ' ': 1, '!': 2, '$': 3, '&': 4, \"'\": 5, ',': 6, '-': 7, '.': 8, '3': 9, ':': 10, ';': 11, '?': 12, 'A': 13, 'B': 14, 'C': 15, 'D': 16, 'E': 17, 'F': 18, 'G': 19, 'H': 20, 'I': 21, 'J': 22, 'K': 23, 'L': 24, 'M': 25, 'N': 26, 'O': 27, 'P': 28, 'Q': 29, 'R': 30, 'S': 31, 'T': 32, 'U': 33, 'V': 34, 'W': 35, 'X': 36, 'Y': 37, 'Z': 38, 'a': 39, 'b': 40, 'c': 41, 'd': 42, 'e': 43, 'f': 44, 'g': 45, 'h': 46, 'i': 47, 'j': 48, 'k': 49, 'l': 50, 'm': 51, 'n': 52, 'o': 53, 'p': 54, 'q': 55, 'r': 56, 's': 57, 't': 58, 'u': 59, 'v': 60, 'w': 61, 'x': 62, 'y': 63, 'z': 64}\n"
          ]
        }
      ]
    },
    {
      "cell_type": "code",
      "source": [
        "data = torch.tensor(encode(text), dtype=torch.long).cuda()"
      ],
      "metadata": {
        "id": "1gyOaRF5Dq1P"
      },
      "execution_count": null,
      "outputs": []
    },
    {
      "cell_type": "code",
      "source": [
        "block_size = 16\n",
        "data[:block_size+1]"
      ],
      "metadata": {
        "colab": {
          "base_uri": "https://localhost:8080/"
        },
        "id": "qvWGi8Mk6x1q",
        "outputId": "bd859efc-c823-4f85-dbcd-64768c4c40e7"
      },
      "execution_count": null,
      "outputs": [
        {
          "output_type": "execute_result",
          "data": {
            "text/plain": [
              "tensor([18, 47, 56, 57, 58,  1, 15, 47, 58, 47, 64, 43, 52, 10,  0, 14, 43],\n",
              "       device='cuda:0')"
            ]
          },
          "metadata": {},
          "execution_count": 18
        }
      ]
    },
    {
      "cell_type": "markdown",
      "source": [
        "To train a transformer, we feed the model `n` tokens (context) and try to predict the `n+1`th token (target) in the sequence.\n",
        "\n"
      ],
      "metadata": {
        "id": "GvO4hSK171Vu"
      }
    },
    {
      "cell_type": "code",
      "source": [
        "x = data[:block_size]\n",
        "y = data[1:block_size+1]\n",
        "for t in range(block_size):\n",
        "    context = x[:t+1]\n",
        "    target = y[t]\n",
        "    print(f\"when input is {context} the target: {target}\")"
      ],
      "metadata": {
        "colab": {
          "base_uri": "https://localhost:8080/"
        },
        "id": "DVWxO6Pa70Lh",
        "outputId": "b858de4f-03f7-4968-b9e5-6fa0d89c9308"
      },
      "execution_count": null,
      "outputs": [
        {
          "output_type": "stream",
          "name": "stdout",
          "text": [
            "when input is tensor([18], device='cuda:0') the target: 47\n",
            "when input is tensor([18, 47], device='cuda:0') the target: 56\n",
            "when input is tensor([18, 47, 56], device='cuda:0') the target: 57\n",
            "when input is tensor([18, 47, 56, 57], device='cuda:0') the target: 58\n",
            "when input is tensor([18, 47, 56, 57, 58], device='cuda:0') the target: 1\n",
            "when input is tensor([18, 47, 56, 57, 58,  1], device='cuda:0') the target: 15\n",
            "when input is tensor([18, 47, 56, 57, 58,  1, 15], device='cuda:0') the target: 47\n",
            "when input is tensor([18, 47, 56, 57, 58,  1, 15, 47], device='cuda:0') the target: 58\n",
            "when input is tensor([18, 47, 56, 57, 58,  1, 15, 47, 58], device='cuda:0') the target: 47\n",
            "when input is tensor([18, 47, 56, 57, 58,  1, 15, 47, 58, 47], device='cuda:0') the target: 64\n",
            "when input is tensor([18, 47, 56, 57, 58,  1, 15, 47, 58, 47, 64], device='cuda:0') the target: 43\n",
            "when input is tensor([18, 47, 56, 57, 58,  1, 15, 47, 58, 47, 64, 43], device='cuda:0') the target: 52\n",
            "when input is tensor([18, 47, 56, 57, 58,  1, 15, 47, 58, 47, 64, 43, 52], device='cuda:0') the target: 10\n",
            "when input is tensor([18, 47, 56, 57, 58,  1, 15, 47, 58, 47, 64, 43, 52, 10],\n",
            "       device='cuda:0') the target: 0\n",
            "when input is tensor([18, 47, 56, 57, 58,  1, 15, 47, 58, 47, 64, 43, 52, 10,  0],\n",
            "       device='cuda:0') the target: 14\n",
            "when input is tensor([18, 47, 56, 57, 58,  1, 15, 47, 58, 47, 64, 43, 52, 10,  0, 14],\n",
            "       device='cuda:0') the target: 43\n"
          ]
        }
      ]
    },
    {
      "cell_type": "code",
      "source": [
        "batch_size = 64\n",
        "device = 'cuda' if torch.cuda.is_available() else 'cpu'\n",
        "def get_batch():\n",
        "    ix = torch.randint(len(data) - block_size, (batch_size,))\n",
        "    x = torch.stack([data[i:i+block_size] for i in ix])\n",
        "    y = torch.stack([data[i+1:i+block_size+1] for i in ix])\n",
        "    x, y = x.to(device), y.to(device)\n",
        "    return x, y\n",
        "\n",
        "print(x)\n",
        "print(y)"
      ],
      "metadata": {
        "id": "lFYZnm2MuLlt",
        "colab": {
          "base_uri": "https://localhost:8080/"
        },
        "outputId": "24bc60ad-3388-4211-eb6a-93c1ac2ededc"
      },
      "execution_count": null,
      "outputs": [
        {
          "output_type": "stream",
          "name": "stdout",
          "text": [
            "tensor([18, 47, 56, 57, 58,  1, 15, 47, 58, 47, 64, 43, 52, 10,  0, 14],\n",
            "       device='cuda:0')\n",
            "tensor([47, 56, 57, 58,  1, 15, 47, 58, 47, 64, 43, 52, 10,  0, 14, 43],\n",
            "       device='cuda:0')\n"
          ]
        }
      ]
    },
    {
      "cell_type": "markdown",
      "source": [
        "### Single Self Attention Head (5 points)\n",
        "![](https://i.ibb.co/GWR1XG0/head.png)"
      ],
      "metadata": {
        "id": "-HmnXJjxtm3N"
      }
    },
    {
      "cell_type": "code",
      "source": [
        "import torch\n",
        "from torch.nn import functional as F\n",
        "import torch.optim as optim\n",
        "import torch.nn as nn\n",
        "import torch\n",
        "from torch.nn import functional as F\n",
        "import torch.optim as optim\n",
        "import torch.nn as nn\n",
        "\n",
        "device = torch.device('cuda' if torch.cuda.is_available() else 'cpu')\n",
        "\n",
        "class SelfAttentionHead(nn.Module):\n",
        "    def __init__(self, head_size):\n",
        "\n",
        "        super().__init__()\n",
        "        self.q_proj = nn.Linear(64, head_size, bias=False)\n",
        "        self.k_proj = nn.Linear(64, head_size, bias=False)\n",
        "        self.v_proj = nn.Linear(64, head_size, bias=False)\n",
        "        self.dropout = nn.Dropout(p=0.5)\n",
        "\n",
        "    def forward(self, x):\n",
        "        B, T, C = x.shape\n",
        "        k = self.k_proj(x)\n",
        "        q = self.q_proj(x)\n",
        "\n",
        "        attention = q @ k.transpose(-2, -1) * C ** -0.5\n",
        "\n",
        "        mask = torch.tril(torch.ones(T, T)).to(device)\n",
        "        masked_attention = attention.masked_fill(mask == 0, float('-inf'))\n",
        "        masked_attention = F.softmax(masked_attention, dim=-1)\n",
        "        masked_attention = self.dropout(masked_attention)\n",
        "\n",
        "        v = self.v_proj(x)  # (B,T,C)\n",
        "        out = masked_attention @ v\n",
        "        return out\n",
        "\n",
        "attn = SelfAttentionHead(16).to(device)\n",
        "x = torch.randn((8, 32, 64)).float().to(device)\n",
        "print(attn(x).shape)\n"
      ],
      "metadata": {
        "id": "5SD8Z16R-sfZ",
        "colab": {
          "base_uri": "https://localhost:8080/"
        },
        "outputId": "f20ab449-170e-40b4-827b-bb90c81260b6"
      },
      "execution_count": null,
      "outputs": [
        {
          "output_type": "stream",
          "name": "stdout",
          "text": [
            "torch.Size([8, 32, 16])\n"
          ]
        }
      ]
    },
    {
      "cell_type": "markdown",
      "source": [
        "### Multihead Self Attention (5 points)\n",
        "\n",
        "`constructor`\n",
        "\n",
        "- Create 4 `SelfAttentionHead` instances. Consider using `nn.ModuleList`\n",
        "- Create a linear layer with n_embd input dim and n_embd output dim\n",
        "\n",
        "`forward`\n",
        "\n",
        "In the forward implementation, pass `x` through each head, then concatenate all the outputs along the feature dimension, then pass the concatenated output through the linear layer\n",
        "\n",
        "![](https://i.ibb.co/y5SwyZZ/multihead.png)"
      ],
      "metadata": {
        "id": "LWeoHGBiFpWd"
      }
    },
    {
      "cell_type": "code",
      "source": [
        "class MultiHeadAttention(nn.Module):\n",
        "    def __init__(self, num_heads, head_size):\n",
        "        super().__init__()\n",
        "        self.heads = nn.ModuleList([SelfAttentionHead(head_size) for _ in range(num_heads)])\n",
        "        self.linear = nn.Linear(num_heads*head_size,64)\n",
        "        self.dropout = nn.Dropout(p=0.5)\n",
        "\n",
        "    def forward(self, x):\n",
        "        head_outputs = [head(x) for head in self.heads]\n",
        "        concatenated = torch.cat(head_outputs, dim=-1)\n",
        "\n",
        "        linear_output = self.linear(concatenated)\n",
        "        linear_output=self.dropout(linear_output)\n",
        "\n",
        "        return linear_output\n",
        "\n",
        "num_heads = 4 #initialize head to 4\n",
        "head_size = 16\n",
        "\n",
        "multi_head_attention = MultiHeadAttention(num_heads, head_size).to(device)\n",
        "\n",
        "x = torch.randn((8, 32, 64)).float().to(device)\n",
        "output = multi_head_attention(x)\n",
        "print(output.shape)"
      ],
      "metadata": {
        "id": "gFsPDkpnFs_b",
        "colab": {
          "base_uri": "https://localhost:8080/"
        },
        "outputId": "e5ddfa67-1250-446b-ff68-f12c9c1de3a4"
      },
      "execution_count": null,
      "outputs": [
        {
          "output_type": "stream",
          "name": "stdout",
          "text": [
            "torch.Size([8, 32, 64])\n"
          ]
        }
      ]
    },
    {
      "cell_type": "markdown",
      "source": [
        "## MLP (2 points)\n",
        "Implement a 2 layer MLP\n",
        "\n",
        "\n",
        "![](https://i.ibb.co/C0DtrF5/ff.png)"
      ],
      "metadata": {
        "id": "uH_0ELyZ8YCC"
      }
    },
    {
      "cell_type": "code",
      "source": [
        "class MLP(nn.Module):\n",
        "    def __init__(self):\n",
        "        super().__init__()\n",
        "        # implement\n",
        "        super().__init__()\n",
        "        self.fc1 = nn.Linear(64, 256)\n",
        "        self.activation = nn.LeakyReLU()\n",
        "        self.fc2 = nn.Linear(256, 64)\n",
        "        self.dropout = nn.Dropout(p=0.5)\n",
        "\n",
        "    def forward(self, x: torch.tensor) -> torch.tensor:\n",
        "        # implement\n",
        "        x=self.fc1(x)\n",
        "        x=self.activation(x)\n",
        "        x=self.fc2(x)\n",
        "        x=self.dropout(x)\n",
        "        return x\n",
        "\n",
        "x = torch.randn((8, 32, 64)).float()\n",
        "mlp_model=MLP()\n",
        "output = mlp_model(x)\n",
        "print(output.shape)"
      ],
      "metadata": {
        "id": "K96Z3kAv7lNt",
        "colab": {
          "base_uri": "https://localhost:8080/"
        },
        "outputId": "4930f819-7f45-4d39-a3f3-c38c8a47afa1"
      },
      "execution_count": null,
      "outputs": [
        {
          "output_type": "stream",
          "name": "stdout",
          "text": [
            "torch.Size([8, 32, 64])\n"
          ]
        }
      ]
    },
    {
      "cell_type": "markdown",
      "source": [
        "## Transformer block (20 points)\n",
        "\n",
        "Layer normalization help training stability by normalizing the outputs of neurons within a single layer across all features for each individual data point, not across a full batch or a specific feature.\n",
        "\n",
        "Dropout is a form of regularization to prevent overfitting.\n",
        "\n",
        "This is the diagram of a transformer block:\n",
        "\n",
        "![](https://i.ibb.co/X85C473/block.png)"
      ],
      "metadata": {
        "id": "bUFxuyf-JIxr"
      }
    },
    {
      "cell_type": "code",
      "source": [
        "class Block(nn.Module):\n",
        "    def __init__(self, n_embd: int, n_head: int):\n",
        "        super().__init__()\n",
        "        self.norm1 = nn.LayerNorm(n_embd)\n",
        "        self.heads=MultiHeadAttention(n_head,16)\n",
        "        self.fc1 = nn.Linear(n_embd, n_embd)\n",
        "\n",
        "    def forward(self, x):\n",
        "        y=self.norm1(x)\n",
        "        y=self.heads(y)\n",
        "        x=x+y\n",
        "        z=self.norm1(x)\n",
        "        z=self.fc1(z)\n",
        "        x=x+z\n",
        "        return x\n",
        "\n",
        "x = torch.randn((8, 32, 64)).float().to(device)\n",
        "tblock=Block(64,4).to(device)\n",
        "output=tblock(x)\n",
        "print(output.shape)"
      ],
      "metadata": {
        "id": "xTDAd66KIvvx",
        "colab": {
          "base_uri": "https://localhost:8080/"
        },
        "outputId": "67b6aaad-e7a7-4a5c-f21b-e95c8f18080d"
      },
      "execution_count": null,
      "outputs": [
        {
          "output_type": "stream",
          "name": "stdout",
          "text": [
            "torch.Size([8, 32, 64])\n"
          ]
        }
      ]
    },
    {
      "cell_type": "markdown",
      "source": [
        "## GPT\n",
        "\n",
        "`constructor` (5 points)\n",
        "\n",
        "1. create the token embedding table and the position embedding table\n",
        "2. create variable `self.blocks` that is a series of 4 `Block`s. The data will pass through each block sequentially. Consider using `nn.Sequential`\n",
        "3. create a layer norm layer\n",
        "4. create a linear layer for predicting the next token\n",
        "\n",
        "`forward(self, idx, targets=None)`. (5 points)\n",
        "\n",
        "`forward` takes a batch of context ids as input of size (B, T) and returns the logits and the loss, if targets is not None. If targets is None, return the logits and None.\n",
        "1. get the token by using the token embedding table created in the constructor\n",
        "2. create the position embeddings\n",
        "3. sum the token and position embeddings to get the model input\n",
        "4. pass the model through the blocks, the layernorm layer, and the final linear layer\n",
        "5. compute the loss\n",
        "\n",
        "`generate(start_char, max_new_tokens, top_p, top_k, temperature) -> str` (5 points)\n",
        "1. implement top p, top_k, and temperature for sampling\n",
        "\n"
      ],
      "metadata": {
        "id": "SyFQXltDKNti"
      }
    },
    {
      "cell_type": "markdown",
      "source": [
        "![](https://i.ibb.co/n8sbQ0V/Screenshot-2024-01-23-at-8-59-08-PM.png)"
      ],
      "metadata": {
        "id": "0Xa2bh2XDdKy"
      }
    },
    {
      "cell_type": "code",
      "source": [
        "class GPT(nn.Module):\n",
        "    def __init__(self, n_embd, n_head):\n",
        "        super().__init__()\n",
        "\n",
        "        self.token_embedding = nn.Embedding(len(chars),n_embd)\n",
        "        self.positional_embedding = nn.Embedding(32, n_embd)\n",
        "        self.dropout = nn.Dropout(p=0.5)\n",
        "        self.blocks = nn.Sequential(*[Block(n_embd, n_head) for _ in range(4)])\n",
        "        self.layer_norm = nn.LayerNorm(n_embd)\n",
        "        self.linear = nn.Linear(n_embd, len(chars))\n",
        "\n",
        "    def forward(self, idx, targets=None):\n",
        "        B,T=idx.shape\n",
        "        token_embeddings = self.token_embedding(idx).to(device)\n",
        "\n",
        "        positional_embedding = self.positional_embedding(torch.stack([torch.arange(T) for _ in range(B)], 0).to(device))\n",
        "\n",
        "        x = token_embeddings + positional_embedding\n",
        "        x = self.dropout(x)\n",
        "        x= self.blocks(x)\n",
        "\n",
        "        x = self.layer_norm(x)\n",
        "        logits = self.linear(x)\n",
        "\n",
        "        if targets is None:\n",
        "            loss = None\n",
        "        else:\n",
        "            B, T, C = logits.shape\n",
        "            logits = logits.view(B*T, C)\n",
        "            targets = targets.view(B*T)\n",
        "            loss = F.cross_entropy(logits, targets)\n",
        "\n",
        "        return logits,loss\n",
        "\n",
        "    def generate(self, start_char, max_new_tokens, top_p, top_k, temperature):\n",
        "        self.eval()\n",
        "        with torch.no_grad():\n",
        "\n",
        "            current_seq = torch.tensor([charsToIdx[start_char]], dtype=torch.long).to(device).unsqueeze(0)\n",
        "\n",
        "            for _ in range(max_new_tokens):\n",
        "\n",
        "                logits, loss = self(current_seq[:, -32:])\n",
        "\n",
        "                logits = logits[:, -1, :]\n",
        "                scaled_logits = logits / temperature\n",
        "                probabilities = F.softmax(scaled_logits, dim=-1)\n",
        "\n",
        "                if top_k is not None:\n",
        "                    sampled_index = top_k_sampling(probabilities, k=top_k)\n",
        "                elif top_p is not None:\n",
        "                    sampled_index = top_p_sampling(probabilities, p=top_p)\n",
        "\n",
        "                sampled_token = torch.tensor([[sampled_index]]).to(device)\n",
        "                current_seq = torch.cat([current_seq, sampled_token], dim=1)\n",
        "\n",
        "        generated_string = ''.join([idxToChars[token.item()] for token in current_seq[0]])\n",
        "        return generated_string\n",
        "\n",
        "def top_k_sampling(probabilities, k=5):\n",
        "\n",
        "    probabilities = probabilities.cpu().numpy().flatten()\n",
        "    top_k_indices = np.argsort(probabilities)[-k:]\n",
        "\n",
        "    top_k_probabilities = probabilities[top_k_indices]\n",
        "    top_k_probabilities /= top_k_probabilities.sum()\n",
        "\n",
        "    chosen_index = np.random.choice(top_k_indices, p=top_k_probabilities)\n",
        "\n",
        "    return chosen_index\n",
        "\n",
        "def top_p_sampling(probabilities, p=0.9):\n",
        "\n",
        "    probabilities = probabilities.cpu().numpy().flatten()\n",
        "\n",
        "    if len(probabilities) > 1:\n",
        "      sorted_indices = np.argsort(probabilities)[::-1]\n",
        "    else:\n",
        "      sorted_indices = np.argsort(probabilities)\n",
        "\n",
        "    sorted_probabilities = probabilities[sorted_indices]\n",
        "    cumulative_probabilities = np.cumsum(sorted_probabilities)\n",
        "\n",
        "    cutoff_index = np.where(cumulative_probabilities > p)[0][0]\n",
        "\n",
        "    filtered_indices = sorted_indices[:cutoff_index + 1]\n",
        "    filtered_probabilities = sorted_probabilities[:cutoff_index + 1]\n",
        "    filtered_probabilities /= filtered_probabilities.sum()\n",
        "    chosen_index = np.random.choice(filtered_indices, p=filtered_probabilities)\n",
        "\n",
        "    return chosen_index\n",
        "\n",
        "\n",
        "gpt_model = GPT(64, 4).to(device)\n",
        "generated_text = gpt_model.generate(start_char='a', max_new_tokens=100,top_k=None,top_p=0.9, temperature=1.0)\n",
        "print(generated_text)"
      ],
      "metadata": {
        "id": "8WT4oUN084ts",
        "colab": {
          "base_uri": "https://localhost:8080/"
        },
        "outputId": "710a991a-0ace-475f-83e6-c5792ab84528"
      },
      "execution_count": null,
      "outputs": [
        {
          "output_type": "stream",
          "name": "stdout",
          "text": [
            "JIxPqh!ILGX-RuNqRtABp.nI'- xGyx;O.izZRwNsLjoYB'mWoqhIKjDZyadsL.TTArRu,ztFqsKAqOrGr!mIR$'XwAPkIuEmfiNu\n"
          ]
        }
      ]
    },
    {
      "cell_type": "markdown",
      "source": [
        "### Training loop (15 points)\n",
        "\n",
        "implement training loop"
      ],
      "metadata": {
        "id": "Njzrwwiv-mfB"
      }
    },
    {
      "cell_type": "code",
      "source": [
        "device = torch.device('cuda' if torch.cuda.is_available() else 'cpu')\n",
        "model = GPT(64, 4).to('cuda') # make you are running this on the GPU\n",
        "max_iters = 10000\n",
        "\n",
        "learning_rate = 0.001\n",
        "optimizer = optim.SGD(gpt_model.parameters(), lr=learning_rate)\n",
        "\n",
        "for iter in range(max_iters):\n",
        "    optimizer.zero_grad()\n",
        "    xb, yb = get_batch()\n",
        "    logits, loss = gpt_model(xb, yb)\n",
        "    loss.backward()\n",
        "    optimizer.step()\n",
        "\n",
        "    if iter % 1000 == 0:\n",
        "        print(f'Iteration {iter}, Loss: {loss.item()}')\n",
        "        print(f'Generated text: {gpt_model.generate(start_char=\"a\", max_new_tokens=100,top_k=5,top_p=None, temperature=1.0)}')\n",
        "\n"
      ],
      "metadata": {
        "id": "qWtn2uTwYUrY",
        "colab": {
          "base_uri": "https://localhost:8080/"
        },
        "outputId": "0d781efa-e1c7-451c-e20c-7b37453a36d9"
      },
      "execution_count": null,
      "outputs": [
        {
          "output_type": "stream",
          "name": "stdout",
          "text": [
            "Iteration 0, Loss: 4.338988304138184\n",
            "Generated text: JyhI.tYPIkIEMwTUo:N:M-OoGIjOWGfa?wwwwgI?jgTjgjgMctD?jgNAmjgNo$ILDwAIE$oL&LDZNjMcutgIk,kAp$zoLuwwtDqgI\n",
            "Iteration 1000, Loss: 3.6837151050567627\n",
            "Generated text: Jsta tOeie  h hUoavZ t I  we o o o httge tuI wIchIc wAe t Igejotge oe ttutuctuIttosottt oej ottuAeIco\n",
            "Iteration 2000, Loss: 3.399388074874878\n",
            "Generated text: J o otht o ee   h ot r  tthoae he hosi eist ee oo o wtee to ht te to we ee tteee te en h ee ee he hos\n",
            "Iteration 3000, Loss: 3.2292182445526123\n",
            "Generated text: Jo a h o e h tero e t o hao h eiite te ht tttot hithe e outhei othiseniei e tott he he wa tee wote e \n",
            "Iteration 4000, Loss: 3.2397572994232178\n",
            "Generated text: J\n",
            " ho  ar th he aerhe he th a t th hioteieiost heiteniee eneie te outhote te oe w se o ther to toe tt\n",
            "Iteration 5000, Loss: 3.104210376739502\n",
            "Generated text: J he o a o an he o hen e oh weat thene thenei h he teien woer oee thi e outotoe te oeene tout si ere \n",
            "Iteration 6000, Loss: 3.043586254119873\n",
            "Generated text: J\n",
            "l or oue tou to d a d taearasou t hi t the we te t terhe i wosithe he on oseneithenos t hitho ter e\n",
            "Iteration 7000, Loss: 3.068498134613037\n",
            "Generated text: Je th o to the toe h s t are ieneriie he tou wotie te ware iie iiiisthe iee soni wate he t wo te hath\n",
            "Iteration 8000, Loss: 3.062323570251465\n",
            "Generated text: J t anerenor h th one t the isthe we hes ae siierthe se isoueniouerie wosise th sit wiie te weenouast\n",
            "Iteration 9000, Loss: 2.973113536834717\n",
            "Generated text: J ane meni the a i hit teneene wesouthe hes hen wh iouth s h s thies s thou wer tiiesier soue t sote \n"
          ]
        }
      ]
    },
    {
      "cell_type": "markdown",
      "source": [
        "### Generate text\n",
        "\n",
        "\n",
        "print some text that your model generates"
      ],
      "metadata": {
        "id": "zy3v8Nv7YVUa"
      }
    },
    {
      "cell_type": "code",
      "source": [
        "print(gpt_model.generate(start_char=\"a\", max_new_tokens=100,top_k=5,top_p=None, temperature=1.0))"
      ],
      "metadata": {
        "id": "5l4soWviWG5M",
        "colab": {
          "base_uri": "https://localhost:8080/"
        },
        "outputId": "9cbb207d-121c-45fe-943c-186a7171a187"
      },
      "execution_count": null,
      "outputs": [
        {
          "output_type": "stream",
          "name": "stdout",
          "text": [
            "Je won on thear ar h mddrhen i whithowe wan s hiiend s we asthe sowasiste wiiiisere here te towanothe\n"
          ]
        }
      ]
    }
  ]
}